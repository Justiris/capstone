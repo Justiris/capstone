{
 "cells": [
  {
   "cell_type": "code",
   "execution_count": 1,
   "metadata": {
    "collapsed": true
   },
   "outputs": [],
   "source": [
    "import numpy as np\n",
    "import matplotlib.pyplot as plt\n",
    "import pandas as pd"
   ]
  },
  {
   "cell_type": "code",
   "execution_count": 2,
   "metadata": {
    "collapsed": true
   },
   "outputs": [],
   "source": [
    "from scipy.stats import norm\n",
    "import scipy.stats"
   ]
  },
  {
   "cell_type": "code",
   "execution_count": 33,
   "metadata": {
    "collapsed": true
   },
   "outputs": [],
   "source": [
    "class env:\n",
    "    def __init__(self,H,sigma,p_e,length,TickSize,LotSize,k, MAX_PRICE):\n",
    "        self.H = H\n",
    "        self.sigma = sigma\n",
    "        self.p_e = p_e\n",
    "        self.length = length\n",
    "        self.TickSize = TickSize\n",
    "        self.LotSize = LotSize\n",
    "        self.k = k\n",
    "        self.MAX_PRICE = MAX_PRICE\n",
    "    \n",
    "    def GeneratePath(self):\n",
    "        #path generator\n",
    "        #x_t = log(p_t/p_e)\n",
    "        #dx_t = -lambda*x_t+sigma*w_t\n",
    "        self._lambda = np.log(2)/self.H\n",
    "        x_t = 0\n",
    "        p_t = [self.p_e*10]\n",
    "        count = 0\n",
    "        for i in range(self.length):\n",
    "            x_t+=-self._lambda*x_t+self.sigma*np.random.normal()\n",
    "            #price generator\n",
    "            #check if price is larger than max_price\n",
    "            #if so, change x_t to allowed maximum value\n",
    "            if x_t>np.log(self.MAX_PRICE/self.p_e):\n",
    "                p_t.append(self.MAX_PRICE*10)\n",
    "                x_t = np.log(self.MAX_PRICE/self.p_e)\n",
    "                count+=1\n",
    "            else:\n",
    "                p_t.append(int(10*self.p_e*np.exp(x_t)))\n",
    "        print(count)\n",
    "        return p_t\n",
    "    \n",
    "    def SpreadCost(self,DeltaN):\n",
    "        return self.TickSize*DeltaN\n",
    "    \n",
    "    def ImpactCost(self,DeltaN):\n",
    "        return DeltaN**2*self.TickSize/self.LotSize\n",
    "    \n",
    "    def Reward(self,state1,state2):\n",
    "        delta_v = state2[1]*(state2[0]-state1[0])*self.LotSize/10 \\\n",
    "        -self.SpreadCost(state2[1]-state1[1])-self.ImpactCost(state2[1]-state1[1])\n",
    "        return delta_v-0.5*self.k*delta_v**2\n",
    "        \n",
    "        "
   ]
  },
  {
   "cell_type": "code",
   "execution_count": 34,
   "metadata": {},
   "outputs": [
    {
     "data": {
      "text/plain": [
       "KstestResult(statistic=0.00024278329382676489, pvalue=0.59738804036746618)"
      ]
     },
     "execution_count": 34,
     "metadata": {},
     "output_type": "execute_result"
    }
   ],
   "source": [
    "ans = np.random.normal(size = 10**7)\n",
    "scipy.stats.normaltest(ans)\n",
    "scipy.stats.anderson(ans)\n",
    "scipy.stats.kstest(ans,cdf='norm')"
   ]
  },
  {
   "cell_type": "code",
   "execution_count": 35,
   "metadata": {
    "collapsed": true
   },
   "outputs": [],
   "source": [
    "class QLearningTable:\n",
    "    def __init__(self, positions, learning_rate, reward_decay,epsilon_greedy,K,M,_env):\n",
    "        self.positions = positions  # a list\n",
    "        self.lr = learning_rate\n",
    "        self.gamma = reward_decay\n",
    "        self.q_table = pd.DataFrame(columns=self.positions,index = range(1,1001))\n",
    "        self.epsilon = epsilon_greedy\n",
    "        self.K = K\n",
    "        self.M = M\n",
    "        self.env = _env\n",
    "        self.fitted = False\n",
    "        for i in range(1,self.env.MAX_PRICE*10+1):\n",
    "            for j in self.positions:\n",
    "                self.q_table.loc[i,j] = [0]*(2*self.K+1)\n",
    "    \n",
    "    def get_index(self,s):\n",
    "        _ind = []\n",
    "        _max = max(s)\n",
    "        for i in range(0,len(s)):\n",
    "            if s[i] == _max:\n",
    "                _ind.append(i)\n",
    "        return _ind\n",
    "    \n",
    "    def choose_action(self, state):\n",
    "        #observation is a tuple\n",
    "        # action selection\n",
    "        if np.random.uniform() < self.epsilon:\n",
    "            # choose best action\n",
    "            state_action = self.q_table.loc[state[0], state[1]][self.K+max(-self.M,state[1]-self.K)\\\n",
    "                                                                -state[1]:self.K+1+min(self.M,state[1]+self.K)-state[1]]\n",
    "            _ind = self.get_index(state_action)     # some actions have same value\n",
    "            if len(_ind)>1:   \n",
    "                np.random.shuffle(_ind)\n",
    "            action = _ind[0]+self.K+max(-self.M,state[1]-self.K)-state[1]\n",
    "        else:\n",
    "            # choose random action\n",
    "            action = np.random.choice(range(self.K+max(-self.M,state[1]-self.K)-state[1],\\\n",
    "                                            self.K+1+min(self.M,state[1]+self.K)-state[1]))\n",
    "        return action\n",
    "\n",
    "    def learn(self,s,a,s_):\n",
    "        q_predict = self.q_table.loc[s[0], s[1]][a]\n",
    "        q_target = self.env.Reward(s,s_) \\\n",
    "        + self.gamma * max(self.q_table.loc[s_[0],s_[1]][self.K+max(-self.M,s_[1]-self.K)\\\n",
    "                                                                -s_[1]:self.K+1+min(self.M,s_[1]+self.K)-s_[1]]) \n",
    "        self.q_table.loc[s[0], s[1]][a] += self.lr * (q_target - q_predict)  # update\n",
    "\n",
    "            \n",
    "    def fit(self,initial_point):\n",
    "        self.fitted = True\n",
    "        s = initial_point\n",
    "        #self.q_table[:] = [0]*(2*self.K+1)\n",
    "        price = self.env.GeneratePath()\n",
    "        for i in range(1,len(price)):\n",
    "            action = self.choose_action(s)\n",
    "            s_ = (price[i],s[1]+action-self.K)\n",
    "            self.learn(s,action,s_)\n",
    "            s = s_\n",
    "            if i%(10**5) == 0:\n",
    "                print(i/(10**5))\n",
    "    \n",
    "    def q_table(self):\n",
    "        assert self.fitted\n",
    "        return self.q_table"
   ]
  },
  {
   "cell_type": "code",
   "execution_count": 36,
   "metadata": {
    "collapsed": true
   },
   "outputs": [],
   "source": [
    "class TestQtable:\n",
    "    def __init__(self,env,q_table):\n",
    "        self.env = env\n",
    "        self.q_table = q_table\n",
    "        self.profit = [0]\n",
    "    \n",
    "    def StepProfit(self,s,s_):\n",
    "        delta_v = s_[1]*(s_[0]-s[0])*self.env.LotSize/10-self.env.SpreadCost(s_[1]-s[1])-self.env.ImpactCost(s_[1]-s[1])\n",
    "        return delta_v\n",
    "    \n",
    "    def test(self,initial_point):\n",
    "        price = self.env.GeneratePath()\n",
    "        plt.plot(price)\n",
    "        plt.show()\n",
    "        s = initial_point\n",
    "        for p in price[1:]:\n",
    "            action = self.q_table.choose_action(s)\n",
    "            s_ = (p,s[1]+action-self.q_table.K)\n",
    "            self.profit.append(self.profit[-1]+ self.StepProfit(s,s_))\n",
    "            s = s_\n",
    "        \n",
    "    def TotalProfit(self):\n",
    "        return self.profit"
   ]
  },
  {
   "cell_type": "code",
   "execution_count": 37,
   "metadata": {
    "collapsed": true
   },
   "outputs": [],
   "source": [
    "action = range(-10,11)\n",
    "env1 = env(5,0.1,50,10**6,0.1,100,10**(-4),200)"
   ]
  },
  {
   "cell_type": "code",
   "execution_count": 38,
   "metadata": {},
   "outputs": [],
   "source": [
    "model = QLearningTable(action,0.001,0.999,0.1,5,10,env1)"
   ]
  },
  {
   "cell_type": "code",
   "execution_count": 39,
   "metadata": {
    "scrolled": true
   },
   "outputs": [
    {
     "name": "stdout",
     "output_type": "stream",
     "text": [
      "0\n",
      "1.0\n",
      "2.0\n",
      "3.0\n",
      "4.0\n",
      "5.0\n",
      "6.0\n",
      "7.0\n",
      "8.0\n",
      "9.0\n",
      "10.0\n"
     ]
    }
   ],
   "source": [
    "model.fit((500,0))"
   ]
  },
  {
   "cell_type": "code",
   "execution_count": 40,
   "metadata": {
    "collapsed": true
   },
   "outputs": [],
   "source": [
    "env2 = env(5,0.1,50,5000,0.1,100,10**(-4),200)"
   ]
  },
  {
   "cell_type": "code",
   "execution_count": 41,
   "metadata": {
    "collapsed": true
   },
   "outputs": [],
   "source": [
    "test = TestQtable(env2,model)"
   ]
  },
  {
   "cell_type": "code",
   "execution_count": 42,
   "metadata": {},
   "outputs": [
    {
     "name": "stdout",
     "output_type": "stream",
     "text": [
      "0\n"
     ]
    },
    {
     "data": {
      "image/png": "[encoded data removed]",
      "text/plain": [
       "<matplotlib.figure.Figure at 0x1f8815287f0>"
      ]
     },
     "metadata": {},
     "output_type": "display_data"
    }
   ],
   "source": [
    "test.test((500,0))"
   ]
  },
  {
   "cell_type": "code",
   "execution_count": 43,
   "metadata": {
    "scrolled": true
   },
   "outputs": [
    {
     "data": {
      "image/png": "[encoded data removed]",
      "text/plain": [
       "<matplotlib.figure.Figure at 0x1f8f19d5ef0>"
      ]
     },
     "metadata": {},
     "output_type": "display_data"
    }
   ],
   "source": [
    "plt.plot(test.profit)\n",
    "plt.show()"
   ]
  },
  {
   "cell_type": "code",
   "execution_count": null,
   "metadata": {
    "collapsed": true
   },
   "outputs": [],
   "source": []
  }
 ],
 "metadata": {
  "kernelspec": {
   "display_name": "Python 3",
   "language": "python",
   "name": "python3"
  },
  "language_info": {
   "codemirror_mode": {
    "name": "ipython",
    "version": 3
   },
   "file_extension": ".py",
   "mimetype": "text/x-python",
   "name": "python",
   "nbconvert_exporter": "python",
   "pygments_lexer": "ipython3",
   "version": "3.6.2"
  }
 },
 "nbformat": 4,
 "nbformat_minor": 2
}
