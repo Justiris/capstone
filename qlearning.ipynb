{
 "cells": [
  {
   "cell_type": "code",
   "execution_count": 47,
   "metadata": {
    "collapsed": true
   },
   "outputs": [],
   "source": [
    "from numpy import random, sqrt, log, sin, cos, pi\n",
    "\n",
    "# transformation function\n",
    "def gaussian(u1,u2):\n",
    "    z1 = sqrt(-2*log(u1))*cos(2*pi*u2)\n",
    "    z2 = sqrt(-2*log(u1))*sin(2*pi*u2)\n",
    "    return z1,z2\n",
    "\n",
    "# uniformly distributed values between 0 and 1\n",
    "u1 = random.rand(100000)\n",
    "u2 = random.rand(100000)\n",
    "\n",
    "# run the transformation\n",
    "z1,z2 = gaussian(u1,u2)"
   ]
  },
  {
   "cell_type": "code",
   "execution_count": 36,
   "metadata": {
    "collapsed": true
   },
   "outputs": [],
   "source": [
    "import numpy as np\n",
    "import matplotlib.pyplot as plt\n",
    "import pandas as pd"
   ]
  },
  {
   "cell_type": "code",
   "execution_count": 122,
   "metadata": {
    "collapsed": true
   },
   "outputs": [],
   "source": [
    "class env:\n",
    "    \"\"\"\n",
    "    The evironment where we can generate simulation pathes,define trading cost, etc\n",
    "\n",
    "    \"\"\"\n",
    "    def __init__(self,H,sigma,p_e,length,TickSize,LotSize,k, MAX_PRICE):\n",
    "        \n",
    "        \"\"\"\n",
    "        H - \n",
    "        sigma: the val\n",
    "        p_e : equilibrim price\n",
    "        lenth : the length of the path\n",
    "        TickSize: tck size\n",
    "        LotSize  : lot size\n",
    "        k         : kappa, mean-variance parameter\n",
    "        MAX_PRICE : maximum price\n",
    "        \"\"\"\n",
    "        \n",
    "        self.H = H\n",
    "        self.sigma = sigma\n",
    "        self.p_e = p_e\n",
    "        self.length = length\n",
    "        self.TickSize = TickSize\n",
    "        self.LotSize = LotSize\n",
    "        self.k = k\n",
    "        self.MAX_PRICE = MAX_PRICE\n",
    "    \n",
    "    def GeneratePath(self):\n",
    "        \"\"\"\n",
    "        Generate the simulation path\n",
    "        \n",
    "        \"\"\"\n",
    "        self._lambda = np.log(2)/self.H\n",
    "        x_t = 0\n",
    "        p_t = [self.p_e/self.TickSize]\n",
    "        count = 0\n",
    "        for i in range(self.length):\n",
    "            # generate price step by setp\n",
    "            x_t+=-self._lambda*x_t+self.sigma*np.random.normal()\n",
    "            \n",
    "            #if it is larger than the uppder bound, then bound it.\n",
    "            if x_t>np.log(self.MAX_PRICE/self.p_e):\n",
    "                p_t.append(self.MAX_PRICE/self.TickSize)\n",
    "                x_t = np.log(self.MAX_PRICE/self.p_e)\n",
    "                count+=1\n",
    "            else:\n",
    "                p_t.append(int(self.p_e*np.exp(x_t)/self.TickSize))\n",
    "\\\n",
    "        return p_t\n",
    "    \n",
    "    def SpreadCost(self,DeltaN):\n",
    "        \"\"\"\n",
    "        Spread cost as defined\n",
    "        \"\"\"\n",
    "        return self.TickSize*abs(DeltaN)*self.LotSize\n",
    "    \n",
    "    def ImpactCost(self,DeltaN):\n",
    "        \"\"\"\n",
    "        market impact as define\n",
    "        \"\"\"\n",
    "        return abs(DeltaN)**2*self.TickSize*self.LotSize\n",
    "    \n",
    "    def Reward(self,state1,state2):\n",
    "        \"\"\"\n",
    "        reward we want to optimize\n",
    "        \"\"\"\n",
    "        delta_v = state2[1]*(state2[0]-state1[0])*self.LotSize*self.TickSize \\\n",
    "        -self.SpreadCost(state2[1]-state1[1])-self.ImpactCost(state2[1]-state1[1])\n",
    "        return delta_v-0.5*self.k*delta_v**2\n",
    "        \n",
    "        "
   ]
  },
  {
   "cell_type": "code",
   "execution_count": 123,
   "metadata": {
    "collapsed": true
   },
   "outputs": [],
   "source": [
    "class QLearningTable:\n",
    "    def __init__(self, positions, learning_rate, reward_decay,epsilon_greedy,K,M,_env):\n",
    "        \"\"\"\n",
    "        The Q learning agent\n",
    "        position : array-like variable, indicate holdling\n",
    "        learning_rate,reward_decay,epsilon_greedy: Q learning parameter\n",
    "        K: maximun size of trade at each step\n",
    "        M: maximum holding position\n",
    "        _env : environemnet as define above.\n",
    "        self.q_table: PRICE * POSITION table\n",
    "        \"\"\"\n",
    "        self.positions = positions  # a list\n",
    "        self.lr = learning_rate\n",
    "        self.gamma = reward_decay\n",
    "        self.q_table = pd.DataFrame(columns=self.positions,index = range(1,1001))\n",
    "        self.epsilon = epsilon_greedy\n",
    "        self.K = K\n",
    "        self.M = M\n",
    "        self.env = _env\n",
    "        self.fitted = False\n",
    "        \n",
    "        # initialize the (Price/ticke size) x  (position) table:\n",
    "        # the element of the table is the action(at most 2*k + 1 actions to be taken)\n",
    "        for i in range(1,self.env.MAX_PRICE*10+1):\n",
    "            for j in self.positions:\n",
    "                self.q_table.loc[i,j] = [0]*(2*self.K+1)\n",
    "    \n",
    "    def get_index(self,s):\n",
    "        \"\"\"\n",
    "        Function that ret turn the indexs of the available actions(the action with maximum reward in next step)\n",
    "        return type: list\n",
    "        \"\"\"\n",
    "        _ind = []\n",
    "        _max = max(s)\n",
    "        for i in range(0,len(s)):\n",
    "            if s[i] == _max:\n",
    "                _ind.append(i)\n",
    "        return _ind\n",
    "    \n",
    "    def choose_action(self, state):\n",
    "        \n",
    "        \"\"\"\n",
    "        The update function for Q learning\n",
    "        state = [price,holding]\n",
    "        \n",
    "        \"\"\"\n",
    "        \n",
    "        # left bound of available action, given hoding (in state[])\n",
    "        lb = self.K+max(-self.M,state[1]-self.K)-state[1]\n",
    "        rb = self.K+1+min(self.M,state[1]+self.K)-state[1]\n",
    "        \n",
    "        \n",
    "        if np.random.uniform() < self.epsilon:\n",
    "            \n",
    "            #Fist we take all protential action from the price- holding table : self.q_table.loc[state[0], state[1]]\n",
    "            #Given my holding,holding limit M and buying limit K, only actions between lb and rb can be chosen \n",
    "            \n",
    "            state_action = self.q_table.loc[state[0], state[1]][lb:rb]\n",
    "            \n",
    "            # find the action that have the maximum reward expectations\n",
    "            _ind = self.get_index(state_action) \n",
    "            # if there are more than 1 this kind of action, we are going to randomly chose one from them\n",
    "            if len(_ind)>1:   \n",
    "                np.random.shuffle(_ind)\n",
    "            action = _ind[0]+lb\n",
    "        #randomly choose an action\n",
    "        else:\n",
    "           \n",
    "            action = np.random.choice(range(lb,rb))\n",
    "       \n",
    "        return action\n",
    "\n",
    "    def learn(self,s,a,s_):\n",
    "        \"\"\"\n",
    "        function that update the Q_table\n",
    "        s : the state before price and holding are changed\n",
    "        s_: the state after price and holding are changed\n",
    "        a : action we take in state s(before changing)\n",
    "        \n",
    "        \"\"\"\n",
    "        # boundary in action, so that holding won't excess limit\n",
    "        lb = self.K+max(-self.M,s_[1]-self.K)-s_[1]\n",
    "        rb = self.K+1+min(self.M,s_[1]+self.K)-s_[1]\n",
    "        \n",
    "        \n",
    "        # the expectation of reward by takeing action a\n",
    "        q_predict = self.q_table.loc[s[0], s[1]][a]\n",
    "        \n",
    "        # the function for Q learning after we saw the changes\n",
    "        q_target = self.env.Reward(s,s_) \\\n",
    "        + self.gamma * max(self.q_table.loc[s_[0],s_[1]][lb:rb]) \n",
    "        \n",
    "        # update Q table\n",
    "        self.q_table.loc[s[0], s[1]][a] += self.lr * (q_target - q_predict)  \n",
    "\n",
    "            \n",
    "    def fit(self,initial_point):\n",
    "        \"\"\"\n",
    "        fit our table given a starting price and holding\n",
    "        initial_point: starting price and holding\n",
    "        \n",
    "        \n",
    "        \"\"\"\n",
    "        self.fitted = True\n",
    "        s = initial_point\n",
    "        price = self.env.GeneratePath()\n",
    "        for i in range(1,len(price)):\n",
    "            #print(s)\n",
    "            action = self.choose_action(s)\n",
    "            s_ = (price[i],s[1]+action-self.K)\n",
    "            self.learn(s,action,s_)\n",
    "            s = s_\n",
    "            if i%(10**5) == 0:\n",
    "                print(i/(10**5))\n",
    "    \n",
    "    def q_table(self):\n",
    "        \"\"\"\n",
    "        get the table\n",
    "        \"\"\"\n",
    "        assert self.fitted\n",
    "        return self.q_table"
   ]
  },
  {
   "cell_type": "code",
   "execution_count": 124,
   "metadata": {
    "collapsed": true
   },
   "outputs": [],
   "source": [
    "class TestQtable:\n",
    "    \"\"\"\n",
    "    where we test our result\n",
    "    \n",
    "    \n",
    "    \"\"\"\n",
    "    def __init__(self,env,q_table):\n",
    "        \"\"\"\n",
    "        initialize the testing with a given environment and an empty q-table\n",
    "        \n",
    "        \"\"\"\n",
    "        self.env = env\n",
    "        self.q_table = q_table\n",
    "        self.profit = [0]\n",
    "    \n",
    "    def StepProfit(self,s,s_):\n",
    "        \"\"\"\n",
    "        Function that calculate the profit after trading cost\n",
    "        \"\"\"\n",
    "        delta_v = s_[1]*(s_[0]-s[0])*self.env.LotSize*self.env.TickSize\\\n",
    "        -self.env.SpreadCost(s_[1]-s[1])-self.env.ImpactCost(s_[1]-s[1])\n",
    "        return delta_v\n",
    "    \n",
    "    def test(self,initial_point):\n",
    "        \"\"\"\n",
    "        Generate path and learn it step by step\n",
    "        \"\"\"\n",
    "        price = self.env.GeneratePath()\n",
    "        plt.plot(price)\n",
    "        plt.show()\n",
    "        s = initial_point\n",
    "        for p in price[1:]:\n",
    "            action = self.q_table.choose_action(s)\n",
    "            s_ = (p,s[1]+action-self.q_table.K)\n",
    "            self.profit.append(self.profit[-1]+ self.StepProfit(s,s_))\n",
    "            s = s_\n",
    "        \n",
    "    def TotalProfit(self):\n",
    "        \"\"\"\n",
    "        out-put the total profit\n",
    "        \"\"\"\n",
    "        return self.profit"
   ]
  },
  {
   "cell_type": "code",
   "execution_count": 158,
   "metadata": {
    "collapsed": true
   },
   "outputs": [],
   "source": [
    "action = range(-10,11)\n",
    "env1 = env(5,0.1,50,10**7,0.1,100,10**(-4),120)"
   ]
  },
  {
   "cell_type": "code",
   "execution_count": 159,
   "metadata": {
    "collapsed": true
   },
   "outputs": [],
   "source": [
    "model = QLearningTable(action,0.001,0.999,0.9,5,10,env1)"
   ]
  },
  {
   "cell_type": "code",
   "execution_count": 160,
   "metadata": {
    "collapsed": false,
    "scrolled": true
   },
   "outputs": [
    {
     "name": "stdout",
     "output_type": "stream",
     "text": [
      "37\n",
      "1.0\n",
      "2.0\n",
      "3.0\n",
      "4.0\n",
      "5.0\n",
      "6.0\n",
      "7.0\n",
      "8.0\n",
      "9.0\n",
      "10.0\n",
      "11.0\n",
      "12.0\n",
      "13.0\n",
      "14.0\n",
      "15.0\n",
      "16.0\n",
      "17.0\n",
      "18.0\n",
      "19.0\n",
      "20.0\n",
      "21.0\n",
      "22.0\n",
      "23.0\n",
      "24.0\n",
      "25.0\n",
      "26.0\n",
      "27.0\n",
      "28.0\n",
      "29.0\n",
      "30.0\n",
      "31.0\n",
      "32.0\n",
      "33.0\n",
      "34.0\n",
      "35.0\n",
      "36.0\n",
      "37.0\n",
      "38.0\n",
      "39.0\n",
      "40.0\n",
      "41.0\n",
      "42.0\n",
      "43.0\n",
      "44.0\n",
      "45.0\n",
      "46.0\n",
      "47.0\n",
      "48.0\n",
      "49.0\n",
      "50.0\n",
      "51.0\n",
      "52.0\n",
      "53.0\n",
      "54.0\n",
      "55.0\n",
      "56.0\n",
      "57.0\n",
      "58.0\n",
      "59.0\n",
      "60.0\n",
      "61.0\n",
      "62.0\n",
      "63.0\n",
      "64.0\n",
      "65.0\n",
      "66.0\n",
      "67.0\n",
      "68.0\n",
      "69.0\n",
      "70.0\n",
      "71.0\n",
      "72.0\n",
      "73.0\n",
      "74.0\n",
      "75.0\n",
      "76.0\n",
      "77.0\n",
      "78.0\n",
      "79.0\n",
      "80.0\n",
      "81.0\n",
      "82.0\n",
      "83.0\n",
      "84.0\n",
      "85.0\n",
      "86.0\n",
      "87.0\n",
      "88.0\n",
      "89.0\n",
      "90.0\n",
      "91.0\n",
      "92.0\n",
      "93.0\n",
      "94.0\n",
      "95.0\n",
      "96.0\n",
      "97.0\n",
      "98.0\n",
      "99.0\n",
      "100.0\n"
     ]
    }
   ],
   "source": [
    "model.fit((500,0))"
   ]
  },
  {
   "cell_type": "code",
   "execution_count": 161,
   "metadata": {
    "collapsed": true
   },
   "outputs": [],
   "source": [
    "env2 = env(5,0.1,50,5000,0.1,100,10**(-4),200)"
   ]
  },
  {
   "cell_type": "code",
   "execution_count": 162,
   "metadata": {
    "collapsed": true
   },
   "outputs": [],
   "source": [
    "test = TestQtable(env2,model)"
   ]
  },
  {
   "cell_type": "code",
   "execution_count": 163,
   "metadata": {
    "collapsed": false
   },
   "outputs": [
    {
     "name": "stdout",
     "output_type": "stream",
     "text": [
      "0\n"
     ]
    },
    {
     "data": {
      "image/png": "[encoded data removed]",
      "text/plain": [
       "<matplotlib.figure.Figure at 0x1f3581c6828>"
      ]
     },
     "metadata": {},
     "output_type": "display_data"
    }
   ],
   "source": [
    "test.test((500,0))"
   ]
  },
  {
   "cell_type": "code",
   "execution_count": 164,
   "metadata": {
    "collapsed": false,
    "scrolled": true
   },
   "outputs": [
    {
     "data": {
      "image/png": "[encoded data removed]",
      "text/plain": [
       "<matplotlib.figure.Figure at 0x1f359134710>"
      ]
     },
     "metadata": {},
     "output_type": "display_data"
    }
   ],
   "source": [
    "plt.plot(test.profit)\n",
    "plt.show()"
   ]
  },
  {
   "cell_type": "code",
   "execution_count": null,
   "metadata": {
    "collapsed": true
   },
   "outputs": [],
   "source": []
  }
 ],
 "metadata": {
  "kernelspec": {
   "display_name": "Python 3",
   "language": "python",
   "name": "python3"
  },
  "language_info": {
   "codemirror_mode": {
    "name": "ipython",
    "version": 3
   },
   "file_extension": ".py",
   "mimetype": "text/x-python",
   "name": "python",
   "nbconvert_exporter": "python",
   "pygments_lexer": "ipython3",
   "version": "3.5.2"
  }
 },
 "nbformat": 4,
 "nbformat_minor": 2
}
